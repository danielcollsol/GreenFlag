{
 "cells": [
  {
   "cell_type": "markdown",
   "metadata": {},
   "source": [
    "# Data Processing Task"
   ]
  },
  {
   "cell_type": "markdown",
   "metadata": {},
   "source": [
    "The goal of this task is to convert the weather data into parquet format, setting the raw group \n",
    "to appropriate value you see fit for this data.\n",
    "\n",
    "The converted data should be queryable to answer the following question:\n",
    "    \n",
    "- Which date was the hottest day?\n",
    "- What was the temperature on that day?\n",
    "- In which region was the hottest day?\n",
    "\n",
    "The steps followed are: (XXX)\n",
    "\n",
    "\n",
    "1. Retrieving data from source\n",
    "2. Exploring data\n",
    "3. Preprocessing data\n",
    "4. Storing dataframe to parquet file format\n",
    "5. Testings\n"
   ]
  },
  {
   "cell_type": "markdown",
   "metadata": {},
   "source": [
    "### 1. Retrieving data from source"
   ]
  },
  {
   "cell_type": "markdown",
   "metadata": {},
   "source": [
    "First we'll import our usual data analysis imports."
   ]
  },
  {
   "cell_type": "code",
   "execution_count": 1,
   "metadata": {},
   "outputs": [],
   "source": [
    "import numpy as np\n",
    "import pandas as pd\n",
    "from pandas import Series, DataFrame\n",
    "\n",
    "from datetime import datetime, timedelta\n",
    "import datetime"
   ]
  },
  {
   "cell_type": "markdown",
   "metadata": {},
   "source": [
    "Retrieve dataset from csv file to pandas DataFrame."
   ]
  },
  {
   "cell_type": "code",
   "execution_count": 2,
   "metadata": {},
   "outputs": [],
   "source": [
    "file = 'src/weather.20160201.csv'\n",
    "try:\n",
    "    df = pd.read_csv(file)\n",
    "except Exception as e:\n",
    "    print('the dataset has not been retrieved from csv file')"
   ]
  },
  {
   "cell_type": "markdown",
   "metadata": {},
   "source": [
    "### 2. Exploring data"
   ]
  },
  {
   "cell_type": "code",
   "execution_count": 3,
   "metadata": {
    "scrolled": true
   },
   "outputs": [
    {
     "data": {
      "text/html": [
       "<div>\n",
       "<style scoped>\n",
       "    .dataframe tbody tr th:only-of-type {\n",
       "        vertical-align: middle;\n",
       "    }\n",
       "\n",
       "    .dataframe tbody tr th {\n",
       "        vertical-align: top;\n",
       "    }\n",
       "\n",
       "    .dataframe thead th {\n",
       "        text-align: right;\n",
       "    }\n",
       "</style>\n",
       "<table border=\"1\" class=\"dataframe\">\n",
       "  <thead>\n",
       "    <tr style=\"text-align: right;\">\n",
       "      <th></th>\n",
       "      <th>ForecastSiteCode</th>\n",
       "      <th>ObservationTime</th>\n",
       "      <th>ObservationDate</th>\n",
       "      <th>WindDirection</th>\n",
       "      <th>WindSpeed</th>\n",
       "      <th>WindGust</th>\n",
       "      <th>Visibility</th>\n",
       "      <th>ScreenTemperature</th>\n",
       "      <th>Pressure</th>\n",
       "      <th>SignificantWeatherCode</th>\n",
       "      <th>SiteName</th>\n",
       "      <th>Latitude</th>\n",
       "      <th>Longitude</th>\n",
       "      <th>Region</th>\n",
       "      <th>Country</th>\n",
       "    </tr>\n",
       "  </thead>\n",
       "  <tbody>\n",
       "    <tr>\n",
       "      <td>0</td>\n",
       "      <td>3002</td>\n",
       "      <td>0</td>\n",
       "      <td>2016-02-01T00:00:00</td>\n",
       "      <td>12</td>\n",
       "      <td>8</td>\n",
       "      <td>NaN</td>\n",
       "      <td>30000.0</td>\n",
       "      <td>2.1</td>\n",
       "      <td>997.0</td>\n",
       "      <td>8</td>\n",
       "      <td>BALTASOUND (3002)</td>\n",
       "      <td>60.749</td>\n",
       "      <td>-0.854</td>\n",
       "      <td>Orkney &amp; Shetland</td>\n",
       "      <td>SCOTLAND</td>\n",
       "    </tr>\n",
       "    <tr>\n",
       "      <td>1</td>\n",
       "      <td>3005</td>\n",
       "      <td>0</td>\n",
       "      <td>2016-02-01T00:00:00</td>\n",
       "      <td>10</td>\n",
       "      <td>2</td>\n",
       "      <td>NaN</td>\n",
       "      <td>35000.0</td>\n",
       "      <td>0.1</td>\n",
       "      <td>997.0</td>\n",
       "      <td>7</td>\n",
       "      <td>LERWICK (S. SCREEN) (3005)</td>\n",
       "      <td>60.139</td>\n",
       "      <td>-1.183</td>\n",
       "      <td>Orkney &amp; Shetland</td>\n",
       "      <td>SCOTLAND</td>\n",
       "    </tr>\n",
       "    <tr>\n",
       "      <td>2</td>\n",
       "      <td>3008</td>\n",
       "      <td>0</td>\n",
       "      <td>2016-02-01T00:00:00</td>\n",
       "      <td>8</td>\n",
       "      <td>6</td>\n",
       "      <td>NaN</td>\n",
       "      <td>50000.0</td>\n",
       "      <td>2.8</td>\n",
       "      <td>997.0</td>\n",
       "      <td>-99</td>\n",
       "      <td>FAIR ISLE (3008)</td>\n",
       "      <td>59.530</td>\n",
       "      <td>-1.630</td>\n",
       "      <td>Orkney &amp; Shetland</td>\n",
       "      <td>NaN</td>\n",
       "    </tr>\n",
       "    <tr>\n",
       "      <td>3</td>\n",
       "      <td>3017</td>\n",
       "      <td>0</td>\n",
       "      <td>2016-02-01T00:00:00</td>\n",
       "      <td>6</td>\n",
       "      <td>8</td>\n",
       "      <td>NaN</td>\n",
       "      <td>40000.0</td>\n",
       "      <td>1.6</td>\n",
       "      <td>996.0</td>\n",
       "      <td>8</td>\n",
       "      <td>KIRKWALL (3017)</td>\n",
       "      <td>58.954</td>\n",
       "      <td>-2.900</td>\n",
       "      <td>Orkney &amp; Shetland</td>\n",
       "      <td>SCOTLAND</td>\n",
       "    </tr>\n",
       "    <tr>\n",
       "      <td>4</td>\n",
       "      <td>3023</td>\n",
       "      <td>0</td>\n",
       "      <td>2016-02-01T00:00:00</td>\n",
       "      <td>10</td>\n",
       "      <td>30</td>\n",
       "      <td>37.0</td>\n",
       "      <td>2600.0</td>\n",
       "      <td>9.8</td>\n",
       "      <td>991.0</td>\n",
       "      <td>11</td>\n",
       "      <td>SOUTH UIST RANGE (3023)</td>\n",
       "      <td>57.358</td>\n",
       "      <td>-7.397</td>\n",
       "      <td>Highland &amp; Eilean Siar</td>\n",
       "      <td>SCOTLAND</td>\n",
       "    </tr>\n",
       "  </tbody>\n",
       "</table>\n",
       "</div>"
      ],
      "text/plain": [
       "   ForecastSiteCode  ObservationTime      ObservationDate  WindDirection  \\\n",
       "0              3002                0  2016-02-01T00:00:00             12   \n",
       "1              3005                0  2016-02-01T00:00:00             10   \n",
       "2              3008                0  2016-02-01T00:00:00              8   \n",
       "3              3017                0  2016-02-01T00:00:00              6   \n",
       "4              3023                0  2016-02-01T00:00:00             10   \n",
       "\n",
       "   WindSpeed  WindGust  Visibility  ScreenTemperature  Pressure  \\\n",
       "0          8       NaN     30000.0                2.1     997.0   \n",
       "1          2       NaN     35000.0                0.1     997.0   \n",
       "2          6       NaN     50000.0                2.8     997.0   \n",
       "3          8       NaN     40000.0                1.6     996.0   \n",
       "4         30      37.0      2600.0                9.8     991.0   \n",
       "\n",
       "   SignificantWeatherCode                    SiteName  Latitude  Longitude  \\\n",
       "0                       8           BALTASOUND (3002)    60.749     -0.854   \n",
       "1                       7  LERWICK (S. SCREEN) (3005)    60.139     -1.183   \n",
       "2                     -99            FAIR ISLE (3008)    59.530     -1.630   \n",
       "3                       8             KIRKWALL (3017)    58.954     -2.900   \n",
       "4                      11     SOUTH UIST RANGE (3023)    57.358     -7.397   \n",
       "\n",
       "                   Region   Country  \n",
       "0       Orkney & Shetland  SCOTLAND  \n",
       "1       Orkney & Shetland  SCOTLAND  \n",
       "2       Orkney & Shetland       NaN  \n",
       "3       Orkney & Shetland  SCOTLAND  \n",
       "4  Highland & Eilean Siar  SCOTLAND  "
      ]
     },
     "execution_count": 3,
     "metadata": {},
     "output_type": "execute_result"
    }
   ],
   "source": [
    "df.head()"
   ]
  },
  {
   "cell_type": "markdown",
   "metadata": {},
   "source": [
    "Observation 1: No measurement units for 'WindDirection', 'WindSpeed','WindGust','Visibility', 'ScreenTemperature', 'Pressure'.\n",
    "\n",
    "Assumptions made for data understanding: \n",
    "\n",
    "- WindDirection [°]\n",
    "- WindSpeed [km/h]\n",
    "- WindGust [km/h]\n",
    "- Visibility [m]\n",
    "- ScreenTemperature [?]\n",
    "- Pressure [Pa]"
   ]
  },
  {
   "cell_type": "markdown",
   "metadata": {},
   "source": [
    "Check column datatypes"
   ]
  },
  {
   "cell_type": "code",
   "execution_count": 4,
   "metadata": {},
   "outputs": [
    {
     "name": "stdout",
     "output_type": "stream",
     "text": [
      "Columns datetypes:\n"
     ]
    },
    {
     "data": {
      "text/plain": [
       "ForecastSiteCode            int64\n",
       "ObservationTime             int64\n",
       "ObservationDate            object\n",
       "WindDirection               int64\n",
       "WindSpeed                   int64\n",
       "WindGust                  float64\n",
       "Visibility                float64\n",
       "ScreenTemperature         float64\n",
       "Pressure                  float64\n",
       "SignificantWeatherCode      int64\n",
       "SiteName                   object\n",
       "Latitude                  float64\n",
       "Longitude                 float64\n",
       "Region                     object\n",
       "Country                    object\n",
       "dtype: object"
      ]
     },
     "execution_count": 4,
     "metadata": {},
     "output_type": "execute_result"
    }
   ],
   "source": [
    "print('Columns datetypes:')\n",
    "df.dtypes"
   ]
  },
  {
   "cell_type": "code",
   "execution_count": 5,
   "metadata": {},
   "outputs": [
    {
     "data": {
      "text/plain": [
       "str"
      ]
     },
     "execution_count": 5,
     "metadata": {},
     "output_type": "execute_result"
    }
   ],
   "source": [
    "type(df['ObservationDate'][0]) # Object type means string here"
   ]
  },
  {
   "cell_type": "markdown",
   "metadata": {},
   "source": [
    "### 3. Preprocessing data"
   ]
  },
  {
   "cell_type": "markdown",
   "metadata": {},
   "source": [
    "Observation 2: ObservationTime and ObservationDate are integer and string data type respectively.\n",
    "    \n",
    "Let's merge both in a datetime data type column."
   ]
  },
  {
   "cell_type": "code",
   "execution_count": 6,
   "metadata": {},
   "outputs": [],
   "source": [
    "# Convert ObservationDate into datetime\n",
    "df['ObservationDate'] = df['ObservationDate'].astype('datetime64[s]')"
   ]
  },
  {
   "cell_type": "code",
   "execution_count": 7,
   "metadata": {},
   "outputs": [],
   "source": [
    "# Create a new datetime column merging the date and time of ObservationDate and ObservationTime columns\n",
    "df['ObservationDateTime'] = df.apply(lambda row: row.ObservationDate + timedelta(hours = row.ObservationTime), axis='columns')"
   ]
  },
  {
   "cell_type": "code",
   "execution_count": 8,
   "metadata": {},
   "outputs": [],
   "source": [
    "# Drop both columns from dataframe\n",
    "df = df.drop(['ObservationDate','ObservationTime'], axis='columns')"
   ]
  },
  {
   "cell_type": "markdown",
   "metadata": {},
   "source": [
    "### 4. Storing dataframe to parquet file format"
   ]
  },
  {
   "cell_type": "code",
   "execution_count": 9,
   "metadata": {},
   "outputs": [],
   "source": [
    "try:\n",
    "    df.to_parquet('output/weather_data.parquet', engine='fastparquet') \n",
    "except Exception as e:\n",
    "    print('It has not been possible to write the dataframe into parquet file')\n",
    "    \n",
    "    "
   ]
  },
  {
   "cell_type": "markdown",
   "metadata": {},
   "source": [
    "### 5. Testings"
   ]
  },
  {
   "cell_type": "markdown",
   "metadata": {},
   "source": [
    "Check stored data are equal to source dataframe"
   ]
  },
  {
   "cell_type": "code",
   "execution_count": 10,
   "metadata": {},
   "outputs": [],
   "source": [
    "# Retrieve dataset from parquet file\n",
    "df_test = pd.read_parquet('output/weather_data.parquet')"
   ]
  },
  {
   "cell_type": "code",
   "execution_count": 27,
   "metadata": {
    "scrolled": true
   },
   "outputs": [
    {
     "name": "stdout",
     "output_type": "stream",
     "text": [
      "OK: Dataset correctly stored\n"
     ]
    }
   ],
   "source": [
    "# Check wether they are equals or not\n",
    "if df.equals(df_test):\n",
    "    print('OK: Dataset correctly stored')\n",
    "else:\n",
    "    raise Exception('KO: Dataset incorrectly stored')"
   ]
  }
 ],
 "metadata": {
  "kernelspec": {
   "display_name": "UdemyCourse",
   "language": "python",
   "name": "pycourse"
  },
  "language_info": {
   "codemirror_mode": {
    "name": "ipython",
    "version": 3
   },
   "file_extension": ".py",
   "mimetype": "text/x-python",
   "name": "python",
   "nbconvert_exporter": "python",
   "pygments_lexer": "ipython3",
   "version": "3.7.0"
  }
 },
 "nbformat": 4,
 "nbformat_minor": 2
}
